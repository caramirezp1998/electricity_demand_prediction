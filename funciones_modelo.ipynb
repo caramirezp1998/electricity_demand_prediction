{
 "cells": [
  {
   "cell_type": "markdown",
   "metadata": {},
   "source": [
    "# FUNCIONES\n",
    "Este script contiene las funciones necesarias para tomar los datos del usuario y realizar una predicción con el modelo NGBoost"
   ]
  },
  {
   "cell_type": "markdown",
   "metadata": {},
   "source": [
    "### Librerías"
   ]
  },
  {
   "cell_type": "code",
   "execution_count": 83,
   "metadata": {},
   "outputs": [],
   "source": [
    "#Carga del modelo\n",
    "import pickle\n",
    "import pandas as pd\n",
    "import numpy as np\n",
    "\n",
    "#librerías de pre-processing\n",
    "import datetime as dt\n",
    "\n",
    "#librería del modelo\n",
    "from ngboost import NGBRegressor"
   ]
  },
  {
   "cell_type": "markdown",
   "metadata": {},
   "source": [
    "# Cargado datos"
   ]
  },
  {
   "cell_type": "code",
   "execution_count": 84,
   "metadata": {},
   "outputs": [],
   "source": [
    "pickle_in = open('../stories/modelo.pickle', 'rb')\n",
    "#Unpickle modelo\n",
    "best_model = pickle.load(pickle_in)\n",
    "\n",
    "#Unpickle temperatura\n",
    "media_train_temp = pickle.load(pickle_in)\n",
    "std_train_temp = pickle.load(pickle_in)\n",
    "ult_temp = pickle.load(pickle_in)\n",
    "\n",
    "#Unpickle poblacion\n",
    "media_train_pob = pickle.load(pickle_in)\n",
    "std_train_pob = pickle.load(pickle_in)\n",
    "ult_pob = pickle.load(pickle_in)\n",
    "\n",
    "#Unpickle PIB\n",
    "media_train_pib = pickle.load(pickle_in)\n",
    "std_train_pib = pickle.load(pickle_in)\n",
    "ult_pib = pickle.load(pickle_in)\n",
    "\n",
    "#Unpickle desempleo\n",
    "media_train_des = pickle.load(pickle_in)\n",
    "std_train_des = pickle.load(pickle_in)\n",
    "ult_des = pickle.load(pickle_in)\n",
    "\n",
    "#Unpickle rezagos\n",
    "media_train_rez = pickle.load(pickle_in)\n",
    "std_train_rez = pickle.load(pickle_in)\n",
    "ult_rez = pickle.load(pickle_in)\n",
    "\n",
    "#Unpickle muestra\n",
    "x_muestra = pickle.load(pickle_in)\n",
    "\n",
    "#Unpickle festivos\n",
    "base_festivos = pickle.load(pickle_in)"
   ]
  },
  {
   "cell_type": "markdown",
   "metadata": {},
   "source": [
    "# Función de predicciones\n",
    "Recibe un vector de predictores y regresa la media y desviación estandar de la predicción con el mejor modelo entrenado NGBoost"
   ]
  },
  {
   "cell_type": "code",
   "execution_count": 85,
   "metadata": {},
   "outputs": [],
   "source": [
    "def predecir(x_pred, modelo = best_model):\n",
    "    y_dist = modelo.pred_dist(x_pred)\n",
    "    media = y_dist.params['loc'][0]\n",
    "    std = y_dist.params['scale'][0]\n",
    "    return(media, std)"
   ]
  },
  {
   "cell_type": "markdown",
   "metadata": {},
   "source": [
    "# Función user to predictores\n",
    "Esta función recibe los parámetros escritos por el usuario y los convierte en un vector de predictores apto para el modelo"
   ]
  },
  {
   "cell_type": "code",
   "execution_count": 142,
   "metadata": {},
   "outputs": [],
   "source": [
    "#Parámetros de prueba:\n",
    "inc_temp = 20 #grados\n",
    "inc_pob = 0.00\n",
    "inc_pib = 0.5\n",
    "inc_des = 0.00\n",
    "fecha = '2021-12-24'"
   ]
  },
  {
   "cell_type": "code",
   "execution_count": 86,
   "metadata": {},
   "outputs": [],
   "source": [
    "def get_predictores(inc_temp, fecha, inc_pib,inc_pob, inc_des, med_temp=media_train_temp, std_temp=std_train_temp, ult_temp=ult_temp, med_pob=media_train_pob, std_pob=std_train_pob, ult_pob=ult_pob, med_pib=media_train_pib, std_pib=std_train_pib, ult_pib=ult_pib,  med_des=media_train_des, std_des=std_train_des, ult_des=ult_des, med_rez=media_train_rez, std_rez=std_train_rez, ult_rez=ult_rez, base_festivos=base_festivos, x_muestra=x_muestra ):\n",
    "    # Tratamiento de temperaturas\n",
    "    temp = ult_temp+ inc_temp\n",
    "    temp_est = (temp - med_temp)/std_temp\n",
    "    temp_est = temp_est.to_list()\n",
    "    \n",
    "    # Población\n",
    "    poblacion = ult_pob*(1+inc_pob)\n",
    "    poblacion = (poblacion-med_pob)/std_pob\n",
    "    \n",
    "    # Tratamiento del PIB\n",
    "    pib = ult_pib*(1+inc_pib)\n",
    "    pib_est = (pib-med_pib)/std_pib\n",
    "    pib_est = pib_est.to_list()\n",
    "    \n",
    "    # Tratamiento del desempleo\n",
    "    des = ult_des*(1+inc_des)\n",
    "    des_est = (des-med_des)/std_des\n",
    "    \n",
    "    # Rezagos\n",
    "    rez = (ult_rez-med_rez)/std_rez\n",
    "    \n",
    "    list_predictores = [fecha]+[rez] + temp_est + [poblacion] + pib_est + [des_est]\n",
    "    predictores = pd.DataFrame(list_predictores, index= ['fecha']+['rez'] + pd.DataFrame(ult_temp).T.columns.to_list()+['Población económicamente activa']+pd.DataFrame(ult_pib).T.columns.to_list() + ['tasa_desempleo'] ).T\n",
    "    \n",
    "    # Tratamiento de fechas\n",
    "    predictores['fecha'] = pd.to_datetime(predictores['fecha'], format='%Y-%m-%d')\n",
    "    \n",
    "    dias = []\n",
    "    for i in predictores['fecha']:\n",
    "        dias.append(pd.Timestamp(i).day_name())\n",
    "    meses = []\n",
    "    for i in predictores['fecha']:\n",
    "        meses.append(pd.Timestamp(i).month_name())\n",
    "    predictores['dia_semana'] = dias\n",
    "    predictores['nombre_mes'] = meses\n",
    "    \n",
    "    base_festivos['fecha'] = pd.to_datetime(base_festivos['fecha'], format='%d/%m/%Y')\n",
    "    \n",
    "    predictores['week_end'] = [1 if x == 'Sunday' or x == 'Saturday' else 0 for x in predictores['dia_semana']]\n",
    "    predictores = pd.merge(predictores,base_festivos, how='left', left_on='fecha', right_on='fecha',right_index=False)\n",
    "    predictores.drop(columns=['fecha'], inplace=True)\n",
    "    predictores['festivo_we']=predictores.apply(lambda x: 1 if x['festivo']==1 or x['week_end']==1 else 0,axis=1)\n",
    "    \n",
    "    predictores['August'] = np.where(predictores['nombre_mes']=='August', 1, 0)\n",
    "    predictores['December'] = np.where(predictores['nombre_mes']=='December', 1, 0)\n",
    "    predictores['February'] = np.where(predictores['nombre_mes']=='February', 1, 0)\n",
    "    predictores['January'] = np.where(predictores['nombre_mes']=='January', 1, 0)\n",
    "    predictores['July'] = np.where(predictores['nombre_mes']=='July', 1, 0)\n",
    "    predictores['June'] = np.where(predictores['nombre_mes']=='June', 1, 0)\n",
    "    predictores['March'] = np.where(predictores['nombre_mes']=='March', 1, 0)\n",
    "    predictores['May'] = np.where(predictores['nombre_mes']=='May', 1, 0)\n",
    "    predictores['November'] = np.where(predictores['nombre_mes']=='November', 1, 0)\n",
    "    predictores['October'] = np.where(predictores['nombre_mes']=='October', 1, 0)\n",
    "    predictores['September'] = np.where(predictores['nombre_mes']=='September', 1, 0)\n",
    "        \n",
    "    predictores.drop(columns=['week_end','dia_semana','festivo','nombre_mes'], inplace=True)\n",
    "    \n",
    "    orden = pd.DataFrame(x_muestra).T.columns.to_list()\n",
    "    predictores = predictores[orden]\n",
    "    \n",
    "    return(predictores)"
   ]
  },
  {
   "cell_type": "markdown",
   "metadata": {},
   "source": [
    "# HACIENDO PREDICCIONES"
   ]
  },
  {
   "cell_type": "code",
   "execution_count": 88,
   "metadata": {},
   "outputs": [
    {
     "data": {
      "text/plain": [
       "(1, 57)"
      ]
     },
     "execution_count": 88,
     "metadata": {},
     "output_type": "execute_result"
    }
   ],
   "source": [
    "get_predictores(inc_temp, fecha, inc_pib,inc_pob, inc_des).shape"
   ]
  },
  {
   "cell_type": "code",
   "execution_count": 133,
   "metadata": {},
   "outputs": [
    {
     "data": {
      "text/plain": [
       "(1.1303449755934847, 0.23028796017489817)"
      ]
     },
     "execution_count": 133,
     "metadata": {},
     "output_type": "execute_result"
    }
   ],
   "source": [
    "predecir(get_predictores(inc_temp, fecha, inc_pib,inc_pob, inc_des))"
   ]
  },
  {
   "cell_type": "code",
   "execution_count": 143,
   "metadata": {},
   "outputs": [
    {
     "data": {
      "text/plain": [
       "(0.8132122425200109, 2.937263704023603)"
      ]
     },
     "execution_count": 143,
     "metadata": {},
     "output_type": "execute_result"
    }
   ],
   "source": [
    "predecir(get_predictores(inc_temp, fecha, inc_pib,inc_pob, inc_des))"
   ]
  }
 ],
 "metadata": {
  "interpreter": {
   "hash": "daf58ca7ad6462900a3197c2943934f3784483eeabbcca552905f956f8e8332b"
  },
  "kernelspec": {
   "display_name": "Python 3.9.7 64-bit (conda)",
   "language": "python",
   "name": "python3"
  },
  "language_info": {
   "codemirror_mode": {
    "name": "ipython",
    "version": 3
   },
   "file_extension": ".py",
   "mimetype": "text/x-python",
   "name": "python",
   "nbconvert_exporter": "python",
   "pygments_lexer": "ipython3",
   "version": "3.9.7"
  },
  "orig_nbformat": 4
 },
 "nbformat": 4,
 "nbformat_minor": 2
}
